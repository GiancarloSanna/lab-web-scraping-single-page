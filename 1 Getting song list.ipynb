{
 "cells": [
  {
   "cell_type": "markdown",
   "id": "c2996c82",
   "metadata": {},
   "source": [
    "# Getting song list"
   ]
  },
  {
   "cell_type": "markdown",
   "id": "1edefc0a",
   "metadata": {},
   "source": [
    "You have find data on the internet about currently popular songs. \n",
    "\n",
    "https://playback.fm/charts\n",
    "http://www.popvortex.com/music/charts/top-100-songs.php\n",
    "\n",
    "It's a good place to start! Scrape the current top 100 songs and their respective artists, and put the information into a pandas dataframe."
   ]
  },
  {
   "cell_type": "markdown",
   "id": "421eb410",
   "metadata": {},
   "source": [
    "# Importing libraries"
   ]
  },
  {
   "cell_type": "code",
   "execution_count": 1,
   "id": "1ea32fd8",
   "metadata": {},
   "outputs": [],
   "source": [
    "from bs4 import BeautifulSoup\n",
    "import pandas as pd\n",
    "import requests"
   ]
  },
  {
   "cell_type": "markdown",
   "id": "0f2c100c",
   "metadata": {},
   "source": [
    "# Getting content of the pages"
   ]
  },
  {
   "cell_type": "code",
   "execution_count": 2,
   "id": "2966883c",
   "metadata": {},
   "outputs": [],
   "source": [
    "url1 = \"https://playback.fm/charts/rock/2021\"\n",
    "url2 = \"http://www.popvortex.com/music/charts/top-100-songs.php\""
   ]
  },
  {
   "cell_type": "code",
   "execution_count": 3,
   "id": "14e4668a",
   "metadata": {},
   "outputs": [],
   "source": [
    "response1 = requests.get(url1, headers = {\"Accept-Language\": \"en-US\"})"
   ]
  },
  {
   "cell_type": "code",
   "execution_count": 4,
   "id": "1279de8e",
   "metadata": {},
   "outputs": [],
   "source": [
    "response2 = requests.get(url2, headers = {\"Accept-Language\": \"en-US\"})"
   ]
  },
  {
   "cell_type": "code",
   "execution_count": 5,
   "id": "7b1ec585",
   "metadata": {},
   "outputs": [
    {
     "name": "stdout",
     "output_type": "stream",
     "text": [
      "200\n",
      "200\n"
     ]
    }
   ],
   "source": [
    "print(response1.status_code)\n",
    "print(response2.status_code)"
   ]
  },
  {
   "cell_type": "markdown",
   "id": "f1099bab",
   "metadata": {},
   "source": [
    "# Parsing"
   ]
  },
  {
   "cell_type": "code",
   "execution_count": 6,
   "id": "9693e278",
   "metadata": {},
   "outputs": [],
   "source": [
    "soup1 = BeautifulSoup(response1.content, 'html.parser')\n",
    "soup2 = BeautifulSoup(response2.content, 'html.parser')"
   ]
  },
  {
   "cell_type": "code",
   "execution_count": 7,
   "id": "2198082a",
   "metadata": {},
   "outputs": [],
   "source": [
    "# soup1 "
   ]
  },
  {
   "cell_type": "markdown",
   "id": "61a81035",
   "metadata": {},
   "source": [
    "# For playback.fm"
   ]
  },
  {
   "cell_type": "code",
   "execution_count": 8,
   "id": "2ba403e1",
   "metadata": {},
   "outputs": [
    {
     "data": {
      "text/plain": [
       "'Waiting On A War'"
      ]
     },
     "execution_count": 8,
     "metadata": {},
     "output_type": "execute_result"
    }
   ],
   "source": [
    "# Try selector\n",
    "soup1.select('#myTable a .song')[0].get_text()"
   ]
  },
  {
   "cell_type": "code",
   "execution_count": 9,
   "id": "9998bf1f",
   "metadata": {},
   "outputs": [
    {
     "data": {
      "text/plain": [
       "'Foo Fighters'"
      ]
     },
     "execution_count": 9,
     "metadata": {},
     "output_type": "execute_result"
    }
   ],
   "source": [
    "soup1.select('#myTable .artist')[0].get_text().strip().replace('\\n','')"
   ]
  },
  {
   "cell_type": "code",
   "execution_count": 10,
   "id": "aba67fbb",
   "metadata": {},
   "outputs": [],
   "source": [
    "selection = soup1.select('#myTable a .song')"
   ]
  },
  {
   "cell_type": "code",
   "execution_count": 11,
   "id": "2ddab63f",
   "metadata": {},
   "outputs": [],
   "source": [
    "# Songlist\n",
    "songs = []\n",
    "artist = []\n",
    "for i in range(len(selection)):\n",
    "    songs.append(selection[i].get_text())\n",
    "    artist.append(soup1.select('#myTable .artist')[i].get_text().strip().replace('\\n',''))"
   ]
  },
  {
   "cell_type": "code",
   "execution_count": 12,
   "id": "c80c641f",
   "metadata": {},
   "outputs": [
    {
     "data": {
      "text/html": [
       "<div>\n",
       "<style scoped>\n",
       "    .dataframe tbody tr th:only-of-type {\n",
       "        vertical-align: middle;\n",
       "    }\n",
       "\n",
       "    .dataframe tbody tr th {\n",
       "        vertical-align: top;\n",
       "    }\n",
       "\n",
       "    .dataframe thead th {\n",
       "        text-align: right;\n",
       "    }\n",
       "</style>\n",
       "<table border=\"1\" class=\"dataframe\">\n",
       "  <thead>\n",
       "    <tr style=\"text-align: right;\">\n",
       "      <th></th>\n",
       "      <th>title</th>\n",
       "      <th>artist</th>\n",
       "    </tr>\n",
       "  </thead>\n",
       "  <tbody>\n",
       "    <tr>\n",
       "      <th>0</th>\n",
       "      <td>Waiting On A War</td>\n",
       "      <td>Foo Fighters</td>\n",
       "    </tr>\n",
       "    <tr>\n",
       "      <th>1</th>\n",
       "      <td>Monsters</td>\n",
       "      <td>All Time Low featuring blackbear</td>\n",
       "    </tr>\n",
       "    <tr>\n",
       "      <th>2</th>\n",
       "      <td>Mood</td>\n",
       "      <td>24kGoldn featuring iann Dior</td>\n",
       "    </tr>\n",
       "    <tr>\n",
       "      <th>3</th>\n",
       "      <td>Follow You</td>\n",
       "      <td>Imagine Dragons</td>\n",
       "    </tr>\n",
       "    <tr>\n",
       "      <th>4</th>\n",
       "      <td>Heat Waves</td>\n",
       "      <td>Glass Animals</td>\n",
       "    </tr>\n",
       "    <tr>\n",
       "      <th>...</th>\n",
       "      <td>...</td>\n",
       "      <td>...</td>\n",
       "    </tr>\n",
       "    <tr>\n",
       "      <th>95</th>\n",
       "      <td>Know That I Know</td>\n",
       "      <td>Lake Street Dive</td>\n",
       "    </tr>\n",
       "    <tr>\n",
       "      <th>96</th>\n",
       "      <td>SugarCrash!</td>\n",
       "      <td>ElyOtto</td>\n",
       "    </tr>\n",
       "    <tr>\n",
       "      <th>97</th>\n",
       "      <td>I Am Not A Woman, I'm A God</td>\n",
       "      <td>Halsey</td>\n",
       "    </tr>\n",
       "    <tr>\n",
       "      <th>98</th>\n",
       "      <td>Trouble’s Coming</td>\n",
       "      <td>Royal Blood</td>\n",
       "    </tr>\n",
       "    <tr>\n",
       "      <th>99</th>\n",
       "      <td>Exile</td>\n",
       "      <td>Taylor Swift featuring Bon Iver</td>\n",
       "    </tr>\n",
       "  </tbody>\n",
       "</table>\n",
       "<p>100 rows × 2 columns</p>\n",
       "</div>"
      ],
      "text/plain": [
       "                          title                            artist\n",
       "0              Waiting On A War                      Foo Fighters\n",
       "1                      Monsters  All Time Low featuring blackbear\n",
       "2                          Mood      24kGoldn featuring iann Dior\n",
       "3                    Follow You                   Imagine Dragons\n",
       "4                    Heat Waves                     Glass Animals\n",
       "..                          ...                               ...\n",
       "95             Know That I Know                  Lake Street Dive\n",
       "96                  SugarCrash!                           ElyOtto\n",
       "97  I Am Not A Woman, I'm A God                            Halsey\n",
       "98             Trouble’s Coming                       Royal Blood\n",
       "99                        Exile   Taylor Swift featuring Bon Iver\n",
       "\n",
       "[100 rows x 2 columns]"
      ]
     },
     "metadata": {},
     "output_type": "display_data"
    }
   ],
   "source": [
    "songs_pbfm = pd.DataFrame({\"title\":songs,\n",
    "                       \"artist\":artist,\n",
    "                      })\n",
    "display(songs_pbfm)"
   ]
  },
  {
   "cell_type": "markdown",
   "id": "92ca4fbc",
   "metadata": {},
   "source": [
    "# For popvortex"
   ]
  },
  {
   "cell_type": "code",
   "execution_count": 13,
   "id": "5fa38b42",
   "metadata": {},
   "outputs": [],
   "source": [
    "# soup2"
   ]
  },
  {
   "cell_type": "markdown",
   "id": "46c9c028",
   "metadata": {},
   "source": [
    "#### Creating lists"
   ]
  },
  {
   "cell_type": "code",
   "execution_count": 14,
   "id": "7879d542",
   "metadata": {},
   "outputs": [],
   "source": [
    "titles = []\n",
    "artists = []"
   ]
  },
  {
   "cell_type": "code",
   "execution_count": 15,
   "id": "99a241df",
   "metadata": {},
   "outputs": [],
   "source": [
    "for t in range(len(soup2.select('.title'))):\n",
    "    titles.append(soup2.select('.title')[t].get_text())"
   ]
  },
  {
   "cell_type": "code",
   "execution_count": 16,
   "id": "09f5d544",
   "metadata": {},
   "outputs": [],
   "source": [
    "for a in range(len(soup2.select('.artist'))):\n",
    "    artists.append(soup2.select('.artist')[a].get_text())"
   ]
  },
  {
   "cell_type": "code",
   "execution_count": 17,
   "id": "2da5da10",
   "metadata": {
    "scrolled": true
   },
   "outputs": [
    {
     "data": {
      "text/html": [
       "<div>\n",
       "<style scoped>\n",
       "    .dataframe tbody tr th:only-of-type {\n",
       "        vertical-align: middle;\n",
       "    }\n",
       "\n",
       "    .dataframe tbody tr th {\n",
       "        vertical-align: top;\n",
       "    }\n",
       "\n",
       "    .dataframe thead th {\n",
       "        text-align: right;\n",
       "    }\n",
       "</style>\n",
       "<table border=\"1\" class=\"dataframe\">\n",
       "  <thead>\n",
       "    <tr style=\"text-align: right;\">\n",
       "      <th></th>\n",
       "      <th>title</th>\n",
       "      <th>artist</th>\n",
       "    </tr>\n",
       "  </thead>\n",
       "  <tbody>\n",
       "    <tr>\n",
       "      <th>0</th>\n",
       "      <td>Separate Ways (Worlds Apart) [feat. Lzzy Hale]</td>\n",
       "      <td>Daughtry</td>\n",
       "    </tr>\n",
       "    <tr>\n",
       "      <th>1</th>\n",
       "      <td>Unholy</td>\n",
       "      <td>Sam Smith &amp; Kim Petras</td>\n",
       "    </tr>\n",
       "    <tr>\n",
       "      <th>2</th>\n",
       "      <td>Anti-Hero</td>\n",
       "      <td>Taylor Swift</td>\n",
       "    </tr>\n",
       "    <tr>\n",
       "      <th>3</th>\n",
       "      <td>Heart Like A Truck</td>\n",
       "      <td>Lainey Wilson</td>\n",
       "    </tr>\n",
       "    <tr>\n",
       "      <th>4</th>\n",
       "      <td>Son Of A Sinner</td>\n",
       "      <td>Jelly Roll</td>\n",
       "    </tr>\n",
       "    <tr>\n",
       "      <th>...</th>\n",
       "      <td>...</td>\n",
       "      <td>...</td>\n",
       "    </tr>\n",
       "    <tr>\n",
       "      <th>94</th>\n",
       "      <td>He Stopped Loving Her Today</td>\n",
       "      <td>George Jones</td>\n",
       "    </tr>\n",
       "    <tr>\n",
       "      <th>95</th>\n",
       "      <td>CUFF IT</td>\n",
       "      <td>Beyoncé</td>\n",
       "    </tr>\n",
       "    <tr>\n",
       "      <th>96</th>\n",
       "      <td>Bad Habit</td>\n",
       "      <td>Steve Lacy</td>\n",
       "    </tr>\n",
       "    <tr>\n",
       "      <th>97</th>\n",
       "      <td>10:35</td>\n",
       "      <td>Tiësto &amp; Tate McRae</td>\n",
       "    </tr>\n",
       "    <tr>\n",
       "      <th>98</th>\n",
       "      <td>Fenty</td>\n",
       "      <td>French Montana &amp; NAV</td>\n",
       "    </tr>\n",
       "  </tbody>\n",
       "</table>\n",
       "<p>99 rows × 2 columns</p>\n",
       "</div>"
      ],
      "text/plain": [
       "                                             title                  artist\n",
       "0   Separate Ways (Worlds Apart) [feat. Lzzy Hale]                Daughtry\n",
       "1                                           Unholy  Sam Smith & Kim Petras\n",
       "2                                        Anti-Hero            Taylor Swift\n",
       "3                               Heart Like A Truck           Lainey Wilson\n",
       "4                                  Son Of A Sinner              Jelly Roll\n",
       "..                                             ...                     ...\n",
       "94                     He Stopped Loving Her Today            George Jones\n",
       "95                                         CUFF IT                 Beyoncé\n",
       "96                                       Bad Habit              Steve Lacy\n",
       "97                                           10:35     Tiësto & Tate McRae\n",
       "98                                           Fenty    French Montana & NAV\n",
       "\n",
       "[99 rows x 2 columns]"
      ]
     },
     "metadata": {},
     "output_type": "display_data"
    }
   ],
   "source": [
    "songs = pd.DataFrame({\"title\":titles,\n",
    "                       \"artist\":artists,\n",
    "                      })\n",
    "display(songs)"
   ]
  },
  {
   "cell_type": "markdown",
   "id": "45a079ac",
   "metadata": {},
   "source": [
    "# Saving"
   ]
  },
  {
   "cell_type": "code",
   "execution_count": 18,
   "id": "8933babd",
   "metadata": {},
   "outputs": [],
   "source": [
    "songs.to_csv('top100.csv', index = False)"
   ]
  },
  {
   "cell_type": "code",
   "execution_count": 19,
   "id": "08caa29e",
   "metadata": {},
   "outputs": [],
   "source": [
    "songs_pbfm.to_csv('pbfm.csv', index = False)"
   ]
  }
 ],
 "metadata": {
  "kernelspec": {
   "display_name": "Python 3 (ipykernel)",
   "language": "python",
   "name": "python3"
  },
  "language_info": {
   "codemirror_mode": {
    "name": "ipython",
    "version": 3
   },
   "file_extension": ".py",
   "mimetype": "text/x-python",
   "name": "python",
   "nbconvert_exporter": "python",
   "pygments_lexer": "ipython3",
   "version": "3.9.13"
  }
 },
 "nbformat": 4,
 "nbformat_minor": 5
}
