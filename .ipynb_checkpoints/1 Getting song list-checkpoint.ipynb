{
 "cells": [
  {
   "cell_type": "markdown",
   "id": "c2996c82",
   "metadata": {},
   "source": [
    "# Getting song list"
   ]
  },
  {
   "cell_type": "markdown",
   "id": "1edefc0a",
   "metadata": {},
   "source": [
    "You have find data on the internet about currently popular songs. \n",
    "\n",
    "https://playback.fm/charts\n",
    "http://www.popvortex.com/music/charts/top-100-songs.php\n",
    "\n",
    "It's a good place to start! Scrape the current top 100 songs and their respective artists, and put the information into a pandas dataframe."
   ]
  },
  {
   "cell_type": "markdown",
   "id": "421eb410",
   "metadata": {},
   "source": [
    "# Importing libraries"
   ]
  },
  {
   "cell_type": "code",
   "execution_count": 2,
   "id": "1ea32fd8",
   "metadata": {},
   "outputs": [],
   "source": [
    "from bs4 import BeautifulSoup\n",
    "import pandas as pd\n",
    "import requests"
   ]
  },
  {
   "cell_type": "markdown",
   "id": "0f2c100c",
   "metadata": {},
   "source": [
    "# Getting content of the pages"
   ]
  },
  {
   "cell_type": "code",
   "execution_count": 3,
   "id": "2966883c",
   "metadata": {},
   "outputs": [],
   "source": [
    "url1 = \"https://playback.fm/charts/rock/2021\"\n",
    "url2 = \"http://www.popvortex.com/music/charts/top-100-songs.php\""
   ]
  },
  {
   "cell_type": "code",
   "execution_count": 4,
   "id": "14e4668a",
   "metadata": {},
   "outputs": [],
   "source": [
    "response1 = requests.get(url1, headers = {\"Accept-Language\": \"en-US\"})"
   ]
  },
  {
   "cell_type": "code",
   "execution_count": 5,
   "id": "1279de8e",
   "metadata": {},
   "outputs": [],
   "source": [
    "response2 = requests.get(url2, headers = {\"Accept-Language\": \"en-US\"})"
   ]
  },
  {
   "cell_type": "code",
   "execution_count": 6,
   "id": "7b1ec585",
   "metadata": {},
   "outputs": [
    {
     "name": "stdout",
     "output_type": "stream",
     "text": [
      "200\n",
      "200\n"
     ]
    }
   ],
   "source": [
    "print(response1.status_code)\n",
    "print(response2.status_code)"
   ]
  },
  {
   "cell_type": "markdown",
   "id": "f1099bab",
   "metadata": {},
   "source": [
    "# Parsing"
   ]
  },
  {
   "cell_type": "code",
   "execution_count": 7,
   "id": "9693e278",
   "metadata": {},
   "outputs": [],
   "source": [
    "soup1 = BeautifulSoup(response1.content, 'html.parser')\n",
    "soup2 = BeautifulSoup(response2.content, 'html.parser')"
   ]
  },
  {
   "cell_type": "code",
   "execution_count": 8,
   "id": "2198082a",
   "metadata": {},
   "outputs": [],
   "source": [
    "# soup1 "
   ]
  },
  {
   "cell_type": "markdown",
   "id": "61a81035",
   "metadata": {},
   "source": [
    "# For playback.fm (will try this additionally later)"
   ]
  },
  {
   "cell_type": "raw",
   "id": "fa53edf0",
   "metadata": {},
   "source": []
  },
  {
   "cell_type": "code",
   "execution_count": 9,
   "id": "c80c641f",
   "metadata": {},
   "outputs": [],
   "source": [
    "# Testing select statement\n",
    "# sel = '.chartTbl > tr'\n",
    "# print(soup1.select(sel))"
   ]
  },
  {
   "cell_type": "markdown",
   "id": "92ca4fbc",
   "metadata": {},
   "source": [
    "# For popvortex"
   ]
  },
  {
   "cell_type": "code",
   "execution_count": 10,
   "id": "5fa38b42",
   "metadata": {},
   "outputs": [],
   "source": [
    "# soup2"
   ]
  },
  {
   "cell_type": "markdown",
   "id": "46c9c028",
   "metadata": {},
   "source": [
    "#### Creating lists"
   ]
  },
  {
   "cell_type": "code",
   "execution_count": 11,
   "id": "7879d542",
   "metadata": {},
   "outputs": [],
   "source": [
    "titles = []\n",
    "artists = []"
   ]
  },
  {
   "cell_type": "code",
   "execution_count": 12,
   "id": "99a241df",
   "metadata": {},
   "outputs": [],
   "source": [
    "for t in range(len(soup2.select('.title'))):\n",
    "    titles.append(soup2.select('.title')[t].get_text())"
   ]
  },
  {
   "cell_type": "code",
   "execution_count": 13,
   "id": "09f5d544",
   "metadata": {},
   "outputs": [],
   "source": [
    "for a in range(len(soup2.select('.artist'))):\n",
    "    artists.append(soup2.select('.artist')[a].get_text())"
   ]
  },
  {
   "cell_type": "code",
   "execution_count": 14,
   "id": "2da5da10",
   "metadata": {
    "scrolled": true
   },
   "outputs": [
    {
     "data": {
      "text/html": [
       "<div>\n",
       "<style scoped>\n",
       "    .dataframe tbody tr th:only-of-type {\n",
       "        vertical-align: middle;\n",
       "    }\n",
       "\n",
       "    .dataframe tbody tr th {\n",
       "        vertical-align: top;\n",
       "    }\n",
       "\n",
       "    .dataframe thead th {\n",
       "        text-align: right;\n",
       "    }\n",
       "</style>\n",
       "<table border=\"1\" class=\"dataframe\">\n",
       "  <thead>\n",
       "    <tr style=\"text-align: right;\">\n",
       "      <th></th>\n",
       "      <th>title</th>\n",
       "      <th>artist</th>\n",
       "    </tr>\n",
       "  </thead>\n",
       "  <tbody>\n",
       "    <tr>\n",
       "      <th>0</th>\n",
       "      <td>Separate Ways (Worlds Apart) [feat. Lzzy Hale]</td>\n",
       "      <td>Daughtry</td>\n",
       "    </tr>\n",
       "    <tr>\n",
       "      <th>1</th>\n",
       "      <td>Unholy</td>\n",
       "      <td>Sam Smith &amp; Kim Petras</td>\n",
       "    </tr>\n",
       "    <tr>\n",
       "      <th>2</th>\n",
       "      <td>Heart Like A Truck</td>\n",
       "      <td>Lainey Wilson</td>\n",
       "    </tr>\n",
       "    <tr>\n",
       "      <th>3</th>\n",
       "      <td>Anti-Hero</td>\n",
       "      <td>Taylor Swift</td>\n",
       "    </tr>\n",
       "    <tr>\n",
       "      <th>4</th>\n",
       "      <td>Son Of A Sinner</td>\n",
       "      <td>Jelly Roll</td>\n",
       "    </tr>\n",
       "    <tr>\n",
       "      <th>...</th>\n",
       "      <td>...</td>\n",
       "      <td>...</td>\n",
       "    </tr>\n",
       "    <tr>\n",
       "      <th>95</th>\n",
       "      <td>Next Thing You Know</td>\n",
       "      <td>Jordan Davis</td>\n",
       "    </tr>\n",
       "    <tr>\n",
       "      <th>96</th>\n",
       "      <td>Motorcycle Drive By</td>\n",
       "      <td>Zach Bryan</td>\n",
       "    </tr>\n",
       "    <tr>\n",
       "      <th>97</th>\n",
       "      <td>CUFF IT</td>\n",
       "      <td>Beyoncé</td>\n",
       "    </tr>\n",
       "    <tr>\n",
       "      <th>98</th>\n",
       "      <td>Top Girls</td>\n",
       "      <td>YoungBoy Never Broke Again</td>\n",
       "    </tr>\n",
       "    <tr>\n",
       "      <th>99</th>\n",
       "      <td>Bad Habit</td>\n",
       "      <td>Steve Lacy</td>\n",
       "    </tr>\n",
       "  </tbody>\n",
       "</table>\n",
       "<p>100 rows × 2 columns</p>\n",
       "</div>"
      ],
      "text/plain": [
       "                                             title                      artist\n",
       "0   Separate Ways (Worlds Apart) [feat. Lzzy Hale]                    Daughtry\n",
       "1                                           Unholy      Sam Smith & Kim Petras\n",
       "2                               Heart Like A Truck               Lainey Wilson\n",
       "3                                        Anti-Hero                Taylor Swift\n",
       "4                                  Son Of A Sinner                  Jelly Roll\n",
       "..                                             ...                         ...\n",
       "95                             Next Thing You Know                Jordan Davis\n",
       "96                             Motorcycle Drive By                  Zach Bryan\n",
       "97                                         CUFF IT                     Beyoncé\n",
       "98                                       Top Girls  YoungBoy Never Broke Again\n",
       "99                                       Bad Habit                  Steve Lacy\n",
       "\n",
       "[100 rows x 2 columns]"
      ]
     },
     "metadata": {},
     "output_type": "display_data"
    }
   ],
   "source": [
    "songs = pd.DataFrame({\"title\":titles,\n",
    "                       \"artist\":artists,\n",
    "                      })\n",
    "display(songs)"
   ]
  },
  {
   "cell_type": "markdown",
   "id": "45a079ac",
   "metadata": {},
   "source": [
    "# Saving"
   ]
  },
  {
   "cell_type": "code",
   "execution_count": 15,
   "id": "8933babd",
   "metadata": {},
   "outputs": [],
   "source": [
    "songs.to_csv('top100.csv', index = False)"
   ]
  }
 ],
 "metadata": {
  "kernelspec": {
   "display_name": "Python 3 (ipykernel)",
   "language": "python",
   "name": "python3"
  },
  "language_info": {
   "codemirror_mode": {
    "name": "ipython",
    "version": 3
   },
   "file_extension": ".py",
   "mimetype": "text/x-python",
   "name": "python",
   "nbconvert_exporter": "python",
   "pygments_lexer": "ipython3",
   "version": "3.9.13"
  }
 },
 "nbformat": 4,
 "nbformat_minor": 5
}
